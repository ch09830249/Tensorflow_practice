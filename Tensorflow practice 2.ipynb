{
 "cells": [
  {
   "cell_type": "code",
   "execution_count": 2,
   "id": "2f2e3d4b",
   "metadata": {},
   "outputs": [],
   "source": [
    "import tensorflow.compat.v1 as tf\n",
    "tf.disable_v2_behavior()\n",
    "import numpy as np"
   ]
  },
  {
   "cell_type": "code",
   "execution_count": 3,
   "id": "96a70cf3",
   "metadata": {},
   "outputs": [
    {
     "name": "stdout",
     "output_type": "stream",
     "text": [
      "XWb:\n",
      "[[-0.35999998  0.28      ]]\n",
      "y:\n",
      "[[0.   0.28]]\n"
     ]
    }
   ],
   "source": [
    "X = tf.Variable([[0.4, 0.2, 0.4]])\n",
    "W = tf.Variable([[-0.5, -0.2],[-0.3, 0.4], [-0.5, 0.2]])\n",
    "b = tf.Variable([[0.1, 0.2]])\n",
    "\n",
    "XWb = tf.matmul(X,W)+b\n",
    "\n",
    "y=tf.nn.relu(XWb)\n",
    "\n",
    "\n",
    "with tf.Session() as sess:\n",
    "    init = tf.compat.v1.global_variables_initializer()\n",
    "    sess.run(init)\n",
    "    print('XWb:')\n",
    "    print(sess.run(XWb))\n",
    "    print('y:')\n",
    "    print(sess.run(y))"
   ]
  },
  {
   "cell_type": "code",
   "execution_count": 4,
   "id": "0ce331ef",
   "metadata": {},
   "outputs": [
    {
     "name": "stdout",
     "output_type": "stream",
     "text": [
      "XWb:\n",
      "[[-0.35999998  0.28      ]]\n",
      "y:\n",
      "[[0.41095957 0.5695462 ]]\n"
     ]
    }
   ],
   "source": [
    "X = tf.Variable([[0.4, 0.2, 0.4]])\n",
    "W = tf.Variable([[-0.5, -0.2],[-0.3, 0.4], [-0.5, 0.2]])\n",
    "b = tf.Variable([[0.1, 0.2]])\n",
    "\n",
    "XWb = tf.matmul(X,W)+b\n",
    "\n",
    "y=tf.nn.sigmoid(XWb)\n",
    "\n",
    "\n",
    "with tf.Session() as sess:\n",
    "    init = tf.compat.v1.global_variables_initializer()\n",
    "    sess.run(init)\n",
    "    print('XWb:')\n",
    "    print(sess.run(XWb))\n",
    "    print('y:')\n",
    "    print(sess.run(y))"
   ]
  },
  {
   "cell_type": "code",
   "execution_count": 5,
   "id": "f758a211",
   "metadata": {},
   "outputs": [
    {
     "name": "stdout",
     "output_type": "stream",
     "text": [
      "b: \n",
      "[[-2.1206937  0.5458085]]\n",
      "W: \n",
      "[[ 2.2080057 -0.4725228]\n",
      " [ 1.9112098 -0.6739384]\n",
      " [-0.2646048  1.4140142]]\n",
      "y:\n",
      "[[0.        0.7876174]]\n"
     ]
    }
   ],
   "source": [
    "X = tf.Variable([[0.4, 0.2, 0.4]])\n",
    "W = tf.Variable(tf.random_normal([3,2]))\n",
    "b = tf.Variable(tf.random_normal([1,2]))\n",
    "\n",
    "XWb = tf.matmul(X,W)+b\n",
    "\n",
    "y=tf.nn.relu(XWb)\n",
    "\n",
    "\n",
    "with tf.Session() as sess:\n",
    "    init = tf.compat.v1.global_variables_initializer()\n",
    "    sess.run(init)\n",
    "    print('b: ')\n",
    "    print(sess.run(b))\n",
    "    print('W: ')\n",
    "    print(sess.run(W))\n",
    "    print('y:')\n",
    "    print(sess.run(y))"
   ]
  },
  {
   "cell_type": "code",
   "execution_count": 7,
   "id": "a900d5e7",
   "metadata": {},
   "outputs": [
    {
     "name": "stdout",
     "output_type": "stream",
     "text": [
      "b: \n",
      "[[0.6546348  0.07213808]]\n",
      "W: \n",
      "[[ 1.7379585e-04 -1.7708786e+00]\n",
      " [-6.0529262e-01 -1.1791878e+00]\n",
      " [-6.9078304e-02  1.9742565e-01]]\n",
      "y:\n",
      "[[0.4 0.2 0.4]]\n"
     ]
    }
   ],
   "source": [
    "X = tf.Variable([[0.4, 0.2, 0.4]])\n",
    "W = tf.Variable(tf.random_normal([3,2]))\n",
    "b = tf.Variable(tf.random_normal([1,2]))\n",
    "\n",
    "XWb = tf.matmul(X,W)+b\n",
    "\n",
    "y=tf.nn.relu(XWb)\n",
    "\n",
    "\n",
    "with tf.Session() as sess:\n",
    "    init = tf.compat.v1.global_variables_initializer()\n",
    "    sess.run(init)\n",
    "    (_b, _W, _X)=sess.run((b, W, X))\n",
    "    print('b: ')\n",
    "    print(_b)\n",
    "    print('W: ')\n",
    "    print(_W)\n",
    "    print('y:')\n",
    "    print(_X)"
   ]
  },
  {
   "cell_type": "code",
   "execution_count": 12,
   "id": "8d0e85a6",
   "metadata": {},
   "outputs": [
    {
     "name": "stdout",
     "output_type": "stream",
     "text": [
      "[-1.0536205  -0.2061077  -0.32671255  1.4565188   1.1723588  -2.6961336\n",
      "  0.82307464 -1.4349638   0.6470221   0.528055   -0.9088001   0.86892146\n",
      " -0.18412311  1.4587053  -0.17754284 -0.01425415 -0.19852525 -0.23688221\n",
      "  1.8484986  -0.29665333]\n",
      "1000\n"
     ]
    }
   ],
   "source": [
    "ts_norm = tf.random_normal([1000])\n",
    "with tf.Session() as sess:\n",
    "    norm_data=ts_norm.eval()\n",
    "print(norm_data[:20])\n",
    "print(len(norm_data))"
   ]
  },
  {
   "cell_type": "code",
   "execution_count": 14,
   "id": "c85b2641",
   "metadata": {},
   "outputs": [
    {
     "data": {
      "image/png": "[encoded data removed]",
      "text/plain": [
       "<Figure size 432x288 with 1 Axes>"
      ]
     },
     "metadata": {
      "needs_background": "light"
     },
     "output_type": "display_data"
    }
   ],
   "source": [
    "import matplotlib.pyplot as plt\n",
    "plt.hist(norm_data)\n",
    "plt.show()"
   ]
  },
  {
   "cell_type": "code",
   "execution_count": 15,
   "id": "581aa030",
   "metadata": {},
   "outputs": [
    {
     "name": "stdout",
     "output_type": "stream",
     "text": [
      "_b:  [[-2.4436152  1.6240176]]\n",
      "_W:  [[ 1.0865957  -0.3007471 ]\n",
      " [-0.62561196  0.008797  ]\n",
      " [ 0.6267191   0.23074335]]\n",
      "_y:  [[0.        1.5977755]]\n",
      "_X:  [[0.4 0.2 0.4]]\n"
     ]
    }
   ],
   "source": [
    "W = tf.random_normal([3, 2])\n",
    "b = tf.random_normal([1, 2])\n",
    "X = tf.placeholder(\"float\", [None, 3])\n",
    "y = tf.nn.relu(tf.matmul(X, W)+b)\n",
    "\n",
    "with tf.Session() as sess:\n",
    "    X_array = np.array([[0.4, 0.2, 0.4]])\n",
    "    (_b, _W, _y, _X) = sess.run((b, W, y, X), feed_dict={X:X_array})\n",
    "    print('_b: ', _b)\n",
    "    print('_W: ', _W)\n",
    "    print('_y: ', _y)\n",
    "    print('_X: ', _X)"
   ]
  },
  {
   "cell_type": "code",
   "execution_count": 16,
   "id": "58a376ba",
   "metadata": {},
   "outputs": [
    {
     "name": "stdout",
     "output_type": "stream",
     "text": [
      "_b:  [[0.3434     0.29081866]]\n",
      "_W:  [[-0.916236    2.2246556 ]\n",
      " [ 0.7088173   0.7923445 ]\n",
      " [ 0.05239132  1.6222245 ]]\n",
      "_y:  [[0.13962561 1.9880396 ]\n",
      " [0.         2.7346706 ]]\n",
      "_X:  [[0.4 0.2 0.4]\n",
      " [0.7 0.3 0.4]]\n"
     ]
    }
   ],
   "source": [
    "W = tf.random_normal([3, 2])\n",
    "b = tf.random_normal([1, 2])\n",
    "X = tf.placeholder(\"float\", [None, 3])\n",
    "y = tf.nn.relu(tf.matmul(X, W)+b)\n",
    "\n",
    "with tf.Session() as sess:\n",
    "    X_array = np.array([[0.4, 0.2, 0.4], [0.7, 0.3, 0.4]])\n",
    "    (_b, _W, _y, _X) = sess.run((b, W, y, X), feed_dict={X:X_array})\n",
    "    print('_b: ', _b)\n",
    "    print('_W: ', _W)\n",
    "    print('_y: ', _y)\n",
    "    print('_X: ', _X)"
   ]
  },
  {
   "cell_type": "code",
   "execution_count": 17,
   "id": "6ca14cbc",
   "metadata": {},
   "outputs": [],
   "source": [
    "def layer(output_dim, input_dim, inputs, activation=None):   #layer函數\n",
    "    W = tf.random_normal([input_dim, output_dim])\n",
    "    b = tf.random_normal([1, output_dim])\n",
    "    XWb = tf.matmul(inputs, W)+b\n",
    "    if activation is None:\n",
    "        return XWb\n",
    "    else:\n",
    "        return activation(XWb)"
   ]
  },
  {
   "cell_type": "code",
   "execution_count": 18,
   "id": "fda75566",
   "metadata": {},
   "outputs": [
    {
     "name": "stdout",
     "output_type": "stream",
     "text": [
      "Input layer: [[0.4 0.2 0.4 0.5]]\n",
      "Hidden layer: [[0.09574294 1.5395838  0.99761564]]\n",
      "Output layer: [[-1.7444036 -0.5451262]]\n"
     ]
    }
   ],
   "source": [
    "X= tf.placeholder(\"float\", [None, 4])\n",
    "h= layer(output_dim=3, input_dim=4, inputs=X, activation=tf.nn.relu)\n",
    "y= layer(output_dim=2, input_dim=3, inputs=h)\n",
    "with tf.Session() as sess:\n",
    "    init = tf.global_variables_initializer()\n",
    "    sess.run(init)\n",
    "    X_array = np.array([[0.4, 0.2, 0.4, 0.5]])\n",
    "    (layer_X, layer_h, layer_y) = sess.run((X, h, y), feed_dict={X:X_array})\n",
    "    print('Input layer:' , layer_X)\n",
    "    print('Hidden layer:' , layer_h)\n",
    "    print('Output layer:' , layer_y)"
   ]
  },
  {
   "cell_type": "code",
   "execution_count": 19,
   "id": "12e41f73",
   "metadata": {},
   "outputs": [],
   "source": [
    "def layer_debug(output_dim, input_dim, inputs, activation=None):   #layer函數\n",
    "    W = tf.random_normal([input_dim, output_dim])\n",
    "    b = tf.random_normal([1, output_dim])\n",
    "    XWb = tf.matmul(inputs, W)+b\n",
    "    if activation is None:\n",
    "        outputs = XWb\n",
    "    else:\n",
    "        outputs = activation(XWb)\n",
    "    return outputs, W, b"
   ]
  },
  {
   "cell_type": "code",
   "execution_count": 22,
   "id": "436c1fbd",
   "metadata": {},
   "outputs": [
    {
     "name": "stdout",
     "output_type": "stream",
     "text": [
      "Input layer X: [[0.4 0.2 0.4 0.5]]\n",
      "W1: [[ 0.09001343 -0.6960833  -0.3811338 ]\n",
      " [ 1.2078921   0.10330216 -1.1783948 ]\n",
      " [-0.87251276  0.36460117  1.112784  ]\n",
      " [-1.8119674   0.57789767 -1.1587245 ]]\n",
      "b1: [[ 0.4770328  -0.38100684  1.2922595 ]]\n",
      "\n",
      "Hidden layer: [[0.        0.        0.7698783]]\n",
      "W2: [[ 0.95570767 -0.15571326]\n",
      " [ 0.5840944   0.40892988]\n",
      " [ 0.9660082  -1.1897087 ]]\n",
      "b2: [[0.42644656 1.1639284 ]]\n",
      "\n",
      "Output layer: [[1.1701553  0.24799746]]\n"
     ]
    }
   ],
   "source": [
    "X= tf.placeholder(\"float\", [None, 4])\n",
    "h, W1, b1= layer_debug(output_dim=3, input_dim=4, inputs=X, activation=tf.nn.relu)\n",
    "y, W2, b2= layer_debug(output_dim=2, input_dim=3, inputs=h)\n",
    "with tf.Session() as sess:\n",
    "    init = tf.global_variables_initializer()\n",
    "    sess.run(init)\n",
    "    X_array = np.array([[0.4, 0.2, 0.4, 0.5]])\n",
    "    (layer_X, layer_h, layer_y, W1, b1, W2, b2) = sess.run((X, h, y, W1, b1, W2, b2), feed_dict={X:X_array})\n",
    "    print('Input layer X:' , layer_X)\n",
    "    print('W1:' , W1)\n",
    "    print('b1:' , b1)\n",
    "    print()\n",
    "    print('Hidden layer:' , layer_h)\n",
    "    print('W2:' , W2)\n",
    "    print('b2:' , b2)\n",
    "    print()\n",
    "    print('Output layer:' , layer_y)"
   ]
  },
  {
   "cell_type": "code",
   "execution_count": null,
   "id": "6f07b076",
   "metadata": {},
   "outputs": [],
   "source": []
  }
 ],
 "metadata": {
  "kernelspec": {
   "display_name": "Python 3",
   "language": "python",
   "name": "python3"
  },
  "language_info": {
   "codemirror_mode": {
    "name": "ipython",
    "version": 3
   },
   "file_extension": ".py",
   "mimetype": "text/x-python",
   "name": "python",
   "nbconvert_exporter": "python",
   "pygments_lexer": "ipython3",
   "version": "3.8.3"
  }
 },
 "nbformat": 4,
 "nbformat_minor": 5
}
